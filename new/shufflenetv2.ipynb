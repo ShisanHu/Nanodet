{
 "cells": [
  {
   "cell_type": "code",
   "execution_count": 3,
   "metadata": {
    "collapsed": true,
    "pycharm": {
     "name": "#%%\n"
    }
   },
   "outputs": [],
   "source": [
    "import mindspore.nn as nn\n",
    "from mindspore import Tensor\n",
    "import mindspore.ops.operations as P\n",
    "\n",
    "def channel_shuffle(x, groups):\n",
    "    batchsize, num_channels, height, width = x.shape\n",
    "    channels_per_group = num_channels // groups\n",
    "    # reshape\n",
    "    x = P.Reshape(x,(batchsize, groups, channels_per_group, height, width))\n",
    "    x = P.Transpose()(x, (1, 2))\n",
    "    x = P.Reshape()(x, (batchsize, -1, height, width))\n",
    "    return x\n",
    "\n",
    "class ShuffleV2Block(nn.Cell):\n",
    "    def __init__(self, inp, oup, stride, activation=\"ReLU\"):\n",
    "        super(ShuffleV2Block, self).__init__()\n",
    "        if not (1 <= stride <= 3):\n",
    "            raise ValueError(\"illegal stride value\")\n",
    "        self.stride = stride\n",
    "        branch_features = oup // 2\n",
    "\n",
    "\n",
    "        if self.stride > 1:\n",
    "            self.branch1 = nn.SequentialCell([\n",
    "                self.depthwise_conv(inp, inp, kernel_size=3, stride=self.stride, padding=1),\n",
    "                nn.BatchNorm2d(inp),\n",
    "                nn.Conv2d(inp,branch_features,kernel_size=1,stride=1,pad_mode=0,has_bias=False),\n",
    "                nn.BatchNorm2d(branch_features),\n",
    "                nn.ReLU(),\n",
    "            ])\n",
    "        else:\n",
    "            self.branch1 = nn.SequentialCell()\n",
    "\n",
    "        self.branch2 = nn.SequentialCell([\n",
    "            nn.Conv2d(\n",
    "                inp if (self.stride > 1) else branch_features,\n",
    "                branch_features,\n",
    "                kernel_size=1,\n",
    "                stride=1,\n",
    "                padding=0,\n",
    "                has_bias=False,\n",
    "            ),\n",
    "            nn.BatchNorm2d(branch_features),\n",
    "            nn.ReLU(),\n",
    "            self.depthwise_conv(\n",
    "                branch_features,\n",
    "                branch_features,\n",
    "                kernel_size=3,\n",
    "                stride=self.stride,\n",
    "                padding=1,\n",
    "            ),\n",
    "            nn.BatchNorm2d(branch_features),\n",
    "            nn.Conv2d(\n",
    "                branch_features,\n",
    "                branch_features,\n",
    "                kernel_size=1,\n",
    "                stride=1,\n",
    "                padding=0,\n",
    "                has_bias=False,\n",
    "            ),\n",
    "            nn.BatchNorm2d(branch_features),\n",
    "            nn.ReLU(),\n",
    "        ])\n",
    "\n",
    "    @staticmethod\n",
    "    def depthwise_conv(i, o, kernel_size, stride=1, padding=0, bias=False):\n",
    "        return nn.Conv2d(i, o, kernel_size, stride, padding, has_bias=bias, group=i, pad_mode=\"pad\")\n",
    "\n",
    "    def construct(self, x):\n",
    "        if self.stride == 1:\n",
    "            x1, x2 = P.Split(axis=1,output_num=2)(x)\n",
    "            out = P.Concat(axis=1)((x1, self.branch2(x2)))\n",
    "        else:\n",
    "            out = P.Concat(axis=1)((self.branch1(x), self.branch2(x)))\n",
    "        out = channel_shuffle(out, 2)\n",
    "        return out\n",
    "\n",
    "class shuffleNetV2(nn.Cell):\n",
    "    def __init__(self, model_size=\"1.0x\", out_stages=(2, 3, 4),  kernal_size=3, with_last_conv=False, activation=\"ReLU\"):\n",
    "        super(shuffleNetV2, self).__init__()\n",
    "        self.stage_repeats = [4, 8, 4]\n",
    "        self.model_size = model_size\n",
    "        self.out_stages = out_stages\n",
    "        self.with_last_conv = with_last_conv\n",
    "        self.kernal_size = kernal_size\n",
    "        self.activation = activation\n",
    "        if model_size == \"0.5x\":\n",
    "            self._stage_out_channels = [24, 48, 96, 192, 1024]\n",
    "        elif model_size == \"1.0x\":\n",
    "            self._stage_out_channels = [24, 116, 232, 464, 1024]\n",
    "        elif model_size == \"1.5x\":\n",
    "            self._stage_out_channels = [24, 176, 352, 704, 1024]\n",
    "        elif model_size == \"2.0x\":\n",
    "            self._stage_out_channels = [24, 244, 488, 976, 2048]\n",
    "        else:\n",
    "            raise NotImplementedError\n",
    "\n",
    "        input_channels = 3\n",
    "        output_channels = self._stage_out_channels[0]\n",
    "        self.conv1 = nn.SequentialCell([\n",
    "            nn.Conv2d(input_channels, output_channels, kernel_size=3, stride=2, padding=1, pad_mode=\"pad\", has_bias=False),\n",
    "            nn.BatchNorm2d(output_channels),\n",
    "            nn.ReLU(),\n",
    "        ])\n",
    "        input_channels = output_channels\n",
    "        self.maxpool = nn.MaxPool2d(kernel_size=3, stride=2, pad_mode=\"same\")\n",
    "        stage_names = [\"stage{}\".format(i) for i in [2, 3, 4]]\n",
    "        for name, repeats, output_channels in zip(\n",
    "            stage_names, self.stage_repeats, self._stage_out_channels[1:]\n",
    "        ):\n",
    "            seq = [\n",
    "                ShuffleV2Block(\n",
    "                    input_channels, output_channels, 2, activation=activation\n",
    "                )\n",
    "            ]\n",
    "            for i in range(repeats - 1):\n",
    "                seq.append(\n",
    "                    ShuffleV2Block(\n",
    "                        output_channels, output_channels, 1, activation=activation\n",
    "                    )\n",
    "                )\n",
    "            setattr(self, name, nn.SequentialCell(*seq))\n",
    "            input_channels = output_channels\n",
    "        output_channels = self._stage_out_channels[-1]\n",
    "        if self.with_last_conv:\n",
    "            conv5 = nn.SequentialCell(\n",
    "                nn.Conv2d(input_channels, output_channels, kernel_size=1,stride=1,padding=0,has_bias=False),\n",
    "                nn.BatchNorm2d(output_channels),\n",
    "                nn.ReLU,\n",
    "            )\n",
    "            self.stage4.add_module(\"conv5\", conv5)\n",
    "\n",
    "    def construct(self, x):\n",
    "        x = self.conv1(x)\n",
    "        x = self.maxpool(x)\n",
    "        output = []\n",
    "        for i in range(2, 5):\n",
    "            stage = getattr(self, \"stage{}\".format(i))\n",
    "            x = stage(x)\n",
    "            if i in self.out_stages:\n",
    "                output.append(x)\n",
    "        return tuple(output)"
   ]
  },
  {
   "cell_type": "code",
   "execution_count": 4,
   "outputs": [
    {
     "ename": "TypeError",
     "evalue": "missing a required argument: 'kernel_size'",
     "output_type": "error",
     "traceback": [
      "\u001B[1;31m---------------------------------------------------------------------------\u001B[0m",
      "\u001B[1;31mTypeError\u001B[0m                                 Traceback (most recent call last)",
      "\u001B[1;32m~\\AppData\\Local\\Temp\\ipykernel_21536\\521903055.py\u001B[0m in \u001B[0;36m<module>\u001B[1;34m\u001B[0m\n\u001B[1;32m----> 1\u001B[1;33m \u001B[0mconv\u001B[0m \u001B[1;33m=\u001B[0m \u001B[0mnn\u001B[0m\u001B[1;33m.\u001B[0m\u001B[0mConv2d\u001B[0m\u001B[1;33m(\u001B[0m\u001B[1;36m3\u001B[0m\u001B[1;33m,\u001B[0m\u001B[1;36m3\u001B[0m\u001B[1;33m)\u001B[0m\u001B[1;33m\u001B[0m\u001B[1;33m\u001B[0m\u001B[0m\n\u001B[0m\u001B[0;32m      2\u001B[0m \u001B[0mbn\u001B[0m \u001B[1;33m=\u001B[0m \u001B[0mnn\u001B[0m\u001B[1;33m.\u001B[0m\u001B[0mBatchNorm2d\u001B[0m\u001B[1;33m(\u001B[0m\u001B[1;36m3\u001B[0m\u001B[1;33m)\u001B[0m\u001B[1;33m\u001B[0m\u001B[1;33m\u001B[0m\u001B[0m\n",
      "\u001B[1;32mD:\\Anaconda3\\envs\\mindspore\\lib\\site-packages\\mindspore\\_extends\\utils.py\u001B[0m in \u001B[0;36mdeco\u001B[1;34m(self, *args, **kwargs)\u001B[0m\n\u001B[0;32m     39\u001B[0m             \u001B[0marguments\u001B[0m \u001B[1;33m=\u001B[0m \u001B[1;33m[\u001B[0m\u001B[1;33m]\u001B[0m\u001B[1;33m\u001B[0m\u001B[1;33m\u001B[0m\u001B[0m\n\u001B[0;32m     40\u001B[0m             \u001B[1;32mif\u001B[0m \u001B[0mattrs\u001B[0m \u001B[1;32mis\u001B[0m \u001B[1;32mNone\u001B[0m\u001B[1;33m:\u001B[0m\u001B[1;33m\u001B[0m\u001B[1;33m\u001B[0m\u001B[0m\n\u001B[1;32m---> 41\u001B[1;33m                 \u001B[0mbound_args\u001B[0m \u001B[1;33m=\u001B[0m \u001B[0minspect\u001B[0m\u001B[1;33m.\u001B[0m\u001B[0msignature\u001B[0m\u001B[1;33m(\u001B[0m\u001B[0mfn\u001B[0m\u001B[1;33m)\u001B[0m\u001B[1;33m.\u001B[0m\u001B[0mbind\u001B[0m\u001B[1;33m(\u001B[0m\u001B[0mself\u001B[0m\u001B[1;33m,\u001B[0m \u001B[1;33m*\u001B[0m\u001B[0margs\u001B[0m\u001B[1;33m,\u001B[0m \u001B[1;33m**\u001B[0m\u001B[0mkwargs\u001B[0m\u001B[1;33m)\u001B[0m\u001B[1;33m\u001B[0m\u001B[1;33m\u001B[0m\u001B[0m\n\u001B[0m\u001B[0;32m     42\u001B[0m                 \u001B[0marguments\u001B[0m \u001B[1;33m=\u001B[0m \u001B[0mbound_args\u001B[0m\u001B[1;33m.\u001B[0m\u001B[0marguments\u001B[0m\u001B[1;33m\u001B[0m\u001B[1;33m\u001B[0m\u001B[0m\n\u001B[0;32m     43\u001B[0m                 \u001B[1;32mdel\u001B[0m \u001B[0marguments\u001B[0m\u001B[1;33m[\u001B[0m\u001B[1;34m'self'\u001B[0m\u001B[1;33m]\u001B[0m\u001B[1;33m\u001B[0m\u001B[1;33m\u001B[0m\u001B[0m\n",
      "\u001B[1;32mD:\\Anaconda3\\envs\\mindspore\\lib\\inspect.py\u001B[0m in \u001B[0;36mbind\u001B[1;34m(*args, **kwargs)\u001B[0m\n\u001B[0;32m   3013\u001B[0m         \u001B[1;32mif\u001B[0m \u001B[0mthe\u001B[0m \u001B[0mpassed\u001B[0m \u001B[0marguments\u001B[0m \u001B[0mcan\u001B[0m \u001B[1;32mnot\u001B[0m \u001B[0mbe\u001B[0m \u001B[0mbound\u001B[0m\u001B[1;33m.\u001B[0m\u001B[1;33m\u001B[0m\u001B[1;33m\u001B[0m\u001B[0m\n\u001B[0;32m   3014\u001B[0m         \"\"\"\n\u001B[1;32m-> 3015\u001B[1;33m         \u001B[1;32mreturn\u001B[0m \u001B[0margs\u001B[0m\u001B[1;33m[\u001B[0m\u001B[1;36m0\u001B[0m\u001B[1;33m]\u001B[0m\u001B[1;33m.\u001B[0m\u001B[0m_bind\u001B[0m\u001B[1;33m(\u001B[0m\u001B[0margs\u001B[0m\u001B[1;33m[\u001B[0m\u001B[1;36m1\u001B[0m\u001B[1;33m:\u001B[0m\u001B[1;33m]\u001B[0m\u001B[1;33m,\u001B[0m \u001B[0mkwargs\u001B[0m\u001B[1;33m)\u001B[0m\u001B[1;33m\u001B[0m\u001B[1;33m\u001B[0m\u001B[0m\n\u001B[0m\u001B[0;32m   3016\u001B[0m \u001B[1;33m\u001B[0m\u001B[0m\n\u001B[0;32m   3017\u001B[0m     \u001B[1;32mdef\u001B[0m \u001B[0mbind_partial\u001B[0m\u001B[1;33m(\u001B[0m\u001B[1;33m*\u001B[0m\u001B[0margs\u001B[0m\u001B[1;33m,\u001B[0m \u001B[1;33m**\u001B[0m\u001B[0mkwargs\u001B[0m\u001B[1;33m)\u001B[0m\u001B[1;33m:\u001B[0m\u001B[1;33m\u001B[0m\u001B[1;33m\u001B[0m\u001B[0m\n",
      "\u001B[1;32mD:\\Anaconda3\\envs\\mindspore\\lib\\inspect.py\u001B[0m in \u001B[0;36m_bind\u001B[1;34m(self, args, kwargs, partial)\u001B[0m\n\u001B[0;32m   2928\u001B[0m                             \u001B[0mmsg\u001B[0m \u001B[1;33m=\u001B[0m \u001B[1;34m'missing a required argument: {arg!r}'\u001B[0m\u001B[1;33m\u001B[0m\u001B[1;33m\u001B[0m\u001B[0m\n\u001B[0;32m   2929\u001B[0m                             \u001B[0mmsg\u001B[0m \u001B[1;33m=\u001B[0m \u001B[0mmsg\u001B[0m\u001B[1;33m.\u001B[0m\u001B[0mformat\u001B[0m\u001B[1;33m(\u001B[0m\u001B[0marg\u001B[0m\u001B[1;33m=\u001B[0m\u001B[0mparam\u001B[0m\u001B[1;33m.\u001B[0m\u001B[0mname\u001B[0m\u001B[1;33m)\u001B[0m\u001B[1;33m\u001B[0m\u001B[1;33m\u001B[0m\u001B[0m\n\u001B[1;32m-> 2930\u001B[1;33m                             \u001B[1;32mraise\u001B[0m \u001B[0mTypeError\u001B[0m\u001B[1;33m(\u001B[0m\u001B[0mmsg\u001B[0m\u001B[1;33m)\u001B[0m \u001B[1;32mfrom\u001B[0m \u001B[1;32mNone\u001B[0m\u001B[1;33m\u001B[0m\u001B[1;33m\u001B[0m\u001B[0m\n\u001B[0m\u001B[0;32m   2931\u001B[0m             \u001B[1;32melse\u001B[0m\u001B[1;33m:\u001B[0m\u001B[1;33m\u001B[0m\u001B[1;33m\u001B[0m\u001B[0m\n\u001B[0;32m   2932\u001B[0m                 \u001B[1;31m# We have a positional argument to process\u001B[0m\u001B[1;33m\u001B[0m\u001B[1;33m\u001B[0m\u001B[1;33m\u001B[0m\u001B[0m\n",
      "\u001B[1;31mTypeError\u001B[0m: missing a required argument: 'kernel_size'"
     ]
    }
   ],
   "source": [
    "conv = nn.Conv2d(3,3)\n",
    "bn = nn.BatchNorm2d(3)"
   ],
   "metadata": {
    "collapsed": false,
    "pycharm": {
     "name": "#%%\n"
    }
   }
  },
  {
   "cell_type": "code",
   "execution_count": null,
   "outputs": [],
   "source": [
    "import mindspore\n",
    "from mindspore.common.initializer import initializer, XavierUniform\n",
    "import numpy as np\n",
    "tensor1 = initializer(XavierUniform(), [2, 3], mindspore.float32)\n",
    "tensor2 = initializer('xavier_uniform', [1, 2, 3], mindspore.float32)\n",
    "x = mindspore.Tensor(np.random.randint(0, 255, (1, 3, 320, 320)), mindspore.float32)"
   ],
   "metadata": {
    "collapsed": false,
    "pycharm": {
     "name": "#%%\n"
    }
   }
  },
  {
   "cell_type": "code",
   "execution_count": null,
   "outputs": [],
   "source": [
    "import mindspore.nn as nn\n",
    "up = nn.ResizeBilinear()(x, scale_factor=0.5)"
   ],
   "metadata": {
    "collapsed": false,
    "pycharm": {
     "name": "#%%\n"
    }
   }
  },
  {
   "cell_type": "code",
   "execution_count": 3,
   "outputs": [],
   "source": [
    "conv = nn.Conv2d(3,64,3,1)"
   ],
   "metadata": {
    "collapsed": false,
    "pycharm": {
     "name": "#%%\n"
    }
   }
  },
  {
   "cell_type": "code",
   "execution_count": 6,
   "outputs": [
    {
     "ename": "AttributeError",
     "evalue": "The 'Conv2d' object has no attribute 'output_padding'.",
     "output_type": "error",
     "traceback": [
      "\u001B[1;31m---------------------------------------------------------------------------\u001B[0m",
      "\u001B[1;31mAttributeError\u001B[0m                            Traceback (most recent call last)",
      "\u001B[1;32m~\\AppData\\Local\\Temp\\ipykernel_20608\\561087243.py\u001B[0m in \u001B[0;36m<module>\u001B[1;34m\u001B[0m\n\u001B[1;32m----> 1\u001B[1;33m \u001B[0mconv\u001B[0m\u001B[1;33m.\u001B[0m\u001B[0moutput_padding\u001B[0m\u001B[1;33m\u001B[0m\u001B[1;33m\u001B[0m\u001B[0m\n\u001B[0m",
      "\u001B[1;32mD:\\Anaconda3\\envs\\mindspore\\lib\\site-packages\\mindspore\\nn\\cell.py\u001B[0m in \u001B[0;36m__getattr__\u001B[1;34m(self, name)\u001B[0m\n\u001B[0;32m    335\u001B[0m                 \u001B[0mpara_list\u001B[0m \u001B[1;33m=\u001B[0m \u001B[0mParameterTuple\u001B[0m\u001B[1;33m(\u001B[0m\u001B[0mcast_list\u001B[0m\u001B[1;33m)\u001B[0m\u001B[1;33m\u001B[0m\u001B[1;33m\u001B[0m\u001B[0m\n\u001B[0;32m    336\u001B[0m                 \u001B[1;32mreturn\u001B[0m \u001B[0mpara_list\u001B[0m\u001B[1;33m\u001B[0m\u001B[1;33m\u001B[0m\u001B[0m\n\u001B[1;32m--> 337\u001B[1;33m         \u001B[1;32mraise\u001B[0m \u001B[0mAttributeError\u001B[0m\u001B[1;33m(\u001B[0m\u001B[1;34m\"The '{}' object has no attribute '{}'.\"\u001B[0m\u001B[1;33m.\u001B[0m\u001B[0mformat\u001B[0m\u001B[1;33m(\u001B[0m\u001B[0mtype\u001B[0m\u001B[1;33m(\u001B[0m\u001B[0mself\u001B[0m\u001B[1;33m)\u001B[0m\u001B[1;33m.\u001B[0m\u001B[0m__name__\u001B[0m\u001B[1;33m,\u001B[0m \u001B[0mname\u001B[0m\u001B[1;33m)\u001B[0m\u001B[1;33m)\u001B[0m\u001B[1;33m\u001B[0m\u001B[1;33m\u001B[0m\u001B[0m\n\u001B[0m\u001B[0;32m    338\u001B[0m \u001B[1;33m\u001B[0m\u001B[0m\n\u001B[0;32m    339\u001B[0m     \u001B[1;32mdef\u001B[0m \u001B[0m__del__\u001B[0m\u001B[1;33m(\u001B[0m\u001B[0mself\u001B[0m\u001B[1;33m)\u001B[0m\u001B[1;33m:\u001B[0m\u001B[1;33m\u001B[0m\u001B[1;33m\u001B[0m\u001B[0m\n",
      "\u001B[1;31mAttributeError\u001B[0m: The 'Conv2d' object has no attribute 'output_padding'."
     ]
    }
   ],
   "source": [
    "conv.output_padding"
   ],
   "metadata": {
    "collapsed": false,
    "pycharm": {
     "name": "#%%\n"
    }
   }
  },
  {
   "cell_type": "code",
   "execution_count": 9,
   "outputs": [],
   "source": [
    "celllist = nn.CellList(nn.Conv2d(3,16,3),nn.BatchNorm2d(16),nn.ReLU())"
   ],
   "metadata": {
    "collapsed": false,
    "pycharm": {
     "name": "#%%\n"
    }
   }
  },
  {
   "cell_type": "code",
   "execution_count": 10,
   "outputs": [
    {
     "ename": "IndexError",
     "evalue": "For 'CellList', the value of 'index' should be a number in range [0, 0), but got 0.",
     "output_type": "error",
     "traceback": [
      "\u001B[1;31m---------------------------------------------------------------------------\u001B[0m",
      "\u001B[1;31mIndexError\u001B[0m                                Traceback (most recent call last)",
      "\u001B[1;32m~\\AppData\\Local\\Temp\\ipykernel_20608\\2204670234.py\u001B[0m in \u001B[0;36m<module>\u001B[1;34m\u001B[0m\n\u001B[1;32m----> 1\u001B[1;33m \u001B[0mcelllist\u001B[0m\u001B[1;33m[\u001B[0m\u001B[1;36m0\u001B[0m\u001B[1;33m]\u001B[0m\u001B[1;33m\u001B[0m\u001B[1;33m\u001B[0m\u001B[0m\n\u001B[0m",
      "\u001B[1;32mD:\\Anaconda3\\envs\\mindspore\\lib\\site-packages\\mindspore\\nn\\layer\\container.py\u001B[0m in \u001B[0;36m__getitem__\u001B[1;34m(self, index)\u001B[0m\n\u001B[0;32m    315\u001B[0m             \u001B[1;32mreturn\u001B[0m \u001B[0mself\u001B[0m\u001B[1;33m.\u001B[0m\u001B[0m__class__\u001B[0m\u001B[1;33m(\u001B[0m\u001B[0mlist\u001B[0m\u001B[1;33m(\u001B[0m\u001B[0mself\u001B[0m\u001B[1;33m.\u001B[0m\u001B[0m_cells\u001B[0m\u001B[1;33m.\u001B[0m\u001B[0mvalues\u001B[0m\u001B[1;33m(\u001B[0m\u001B[1;33m)\u001B[0m\u001B[1;33m)\u001B[0m\u001B[1;33m[\u001B[0m\u001B[0mindex\u001B[0m\u001B[1;33m]\u001B[0m\u001B[1;33m)\u001B[0m\u001B[1;33m\u001B[0m\u001B[1;33m\u001B[0m\u001B[0m\n\u001B[0;32m    316\u001B[0m         \u001B[1;32mif\u001B[0m \u001B[0misinstance\u001B[0m\u001B[1;33m(\u001B[0m\u001B[0mindex\u001B[0m\u001B[1;33m,\u001B[0m \u001B[0mint\u001B[0m\u001B[1;33m)\u001B[0m\u001B[1;33m:\u001B[0m\u001B[1;33m\u001B[0m\u001B[1;33m\u001B[0m\u001B[0m\n\u001B[1;32m--> 317\u001B[1;33m             \u001B[0mindex\u001B[0m \u001B[1;33m=\u001B[0m \u001B[0m_valid_index\u001B[0m\u001B[1;33m(\u001B[0m\u001B[0mlen\u001B[0m\u001B[1;33m(\u001B[0m\u001B[0mself\u001B[0m\u001B[1;33m)\u001B[0m\u001B[1;33m,\u001B[0m \u001B[0mindex\u001B[0m\u001B[1;33m,\u001B[0m \u001B[0mcls_name\u001B[0m\u001B[1;33m)\u001B[0m\u001B[1;33m\u001B[0m\u001B[1;33m\u001B[0m\u001B[0m\n\u001B[0m\u001B[0;32m    318\u001B[0m             \u001B[1;32mreturn\u001B[0m \u001B[0mself\u001B[0m\u001B[1;33m.\u001B[0m\u001B[0m_cells\u001B[0m\u001B[1;33m[\u001B[0m\u001B[0mstr\u001B[0m\u001B[1;33m(\u001B[0m\u001B[0mindex\u001B[0m\u001B[1;33m)\u001B[0m\u001B[1;33m]\u001B[0m\u001B[1;33m\u001B[0m\u001B[1;33m\u001B[0m\u001B[0m\n\u001B[0;32m    319\u001B[0m         raise TypeError(f\"For '{cls_name}', the type of 'index' should be int or slice, \"\n",
      "\u001B[1;32mD:\\Anaconda3\\envs\\mindspore\\lib\\site-packages\\mindspore\\nn\\layer\\container.py\u001B[0m in \u001B[0;36m_valid_index\u001B[1;34m(cell_num, index, op_name)\u001B[0m\n\u001B[0;32m     27\u001B[0m         \u001B[1;32mraise\u001B[0m \u001B[0mTypeError\u001B[0m\u001B[1;33m(\u001B[0m\u001B[1;34mf\"{msg_prefix} type of 'index' should be int, but got {type(index).__name__}.\"\u001B[0m\u001B[1;33m)\u001B[0m\u001B[1;33m\u001B[0m\u001B[1;33m\u001B[0m\u001B[0m\n\u001B[0;32m     28\u001B[0m     \u001B[1;32mif\u001B[0m \u001B[1;32mnot\u001B[0m \u001B[1;33m-\u001B[0m\u001B[0mcell_num\u001B[0m \u001B[1;33m<=\u001B[0m \u001B[0mindex\u001B[0m \u001B[1;33m<\u001B[0m \u001B[0mcell_num\u001B[0m\u001B[1;33m:\u001B[0m\u001B[1;33m\u001B[0m\u001B[1;33m\u001B[0m\u001B[0m\n\u001B[1;32m---> 29\u001B[1;33m         raise IndexError(f\"{msg_prefix} value of 'index' should be a number in range [{-cell_num}, {cell_num}), \"\n\u001B[0m\u001B[0;32m     30\u001B[0m                          f\"but got {index}.\")\n\u001B[0;32m     31\u001B[0m     \u001B[1;32mreturn\u001B[0m \u001B[0mindex\u001B[0m \u001B[1;33m%\u001B[0m \u001B[0mcell_num\u001B[0m\u001B[1;33m\u001B[0m\u001B[1;33m\u001B[0m\u001B[0m\n",
      "\u001B[1;31mIndexError\u001B[0m: For 'CellList', the value of 'index' should be a number in range [0, 0), but got 0."
     ]
    }
   ],
   "source": [
    "celllist[0]"
   ],
   "metadata": {
    "collapsed": false,
    "pycharm": {
     "name": "#%%\n"
    }
   }
  },
  {
   "cell_type": "code",
   "execution_count": 10,
   "outputs": [
    {
     "name": "stdout",
     "output_type": "stream",
     "text": [
      "\n"
     ]
    },
    {
     "ename": "ValueError",
     "evalue": "For 'BatchMatMul', input 'x' should be greater than or equal to 3, input 'y' should be greater than or equal to 2, but got 'x' size: 3, 'y' size: 1.",
     "output_type": "error",
     "traceback": [
      "\u001B[1;31m---------------------------------------------------------------------------\u001B[0m",
      "\u001B[1;31mValueError\u001B[0m                                Traceback (most recent call last)",
      "\u001B[1;32m~\\AppData\\Local\\Temp\\ipykernel_21536\\3281728077.py\u001B[0m in \u001B[0;36m<module>\u001B[1;34m\u001B[0m\n\u001B[0;32m      4\u001B[0m \u001B[0my\u001B[0m \u001B[1;33m=\u001B[0m \u001B[0mTensor\u001B[0m\u001B[1;33m(\u001B[0m\u001B[0mnp\u001B[0m\u001B[1;33m.\u001B[0m\u001B[0mones\u001B[0m\u001B[1;33m(\u001B[0m\u001B[0mshape\u001B[0m\u001B[1;33m=\u001B[0m\u001B[1;33m[\u001B[0m\u001B[1;36m8\u001B[0m\u001B[1;33m]\u001B[0m\u001B[1;33m)\u001B[0m\u001B[1;33m,\u001B[0m\u001B[0mmindspore\u001B[0m\u001B[1;33m.\u001B[0m\u001B[0mfloat32\u001B[0m\u001B[1;33m)\u001B[0m\u001B[1;33m\u001B[0m\u001B[1;33m\u001B[0m\u001B[0m\n\u001B[0;32m      5\u001B[0m \u001B[0mbatmatmul\u001B[0m \u001B[1;33m=\u001B[0m \u001B[0mP\u001B[0m\u001B[1;33m.\u001B[0m\u001B[0mBatchMatMul\u001B[0m\u001B[1;33m(\u001B[0m\u001B[1;33m)\u001B[0m\u001B[1;33m\u001B[0m\u001B[1;33m\u001B[0m\u001B[0m\n\u001B[1;32m----> 6\u001B[1;33m \u001B[0moutput\u001B[0m \u001B[1;33m=\u001B[0m \u001B[0mbatmatmul\u001B[0m\u001B[1;33m(\u001B[0m\u001B[0mx\u001B[0m\u001B[1;33m,\u001B[0m \u001B[0my\u001B[0m\u001B[1;33m)\u001B[0m\u001B[1;33m\u001B[0m\u001B[1;33m\u001B[0m\u001B[0m\n\u001B[0m",
      "\u001B[1;32mD:\\Anaconda3\\envs\\mindspore\\lib\\site-packages\\mindspore\\ops\\primitive.py\u001B[0m in \u001B[0;36m__call__\u001B[1;34m(self, *args)\u001B[0m\n\u001B[0;32m    292\u001B[0m         \u001B[1;32mif\u001B[0m \u001B[0mshould_elim\u001B[0m\u001B[1;33m:\u001B[0m\u001B[1;33m\u001B[0m\u001B[1;33m\u001B[0m\u001B[0m\n\u001B[0;32m    293\u001B[0m             \u001B[1;32mreturn\u001B[0m \u001B[0moutput\u001B[0m\u001B[1;33m\u001B[0m\u001B[1;33m\u001B[0m\u001B[0m\n\u001B[1;32m--> 294\u001B[1;33m         \u001B[1;32mreturn\u001B[0m \u001B[0m_run_op\u001B[0m\u001B[1;33m(\u001B[0m\u001B[0mself\u001B[0m\u001B[1;33m,\u001B[0m \u001B[0mself\u001B[0m\u001B[1;33m.\u001B[0m\u001B[0mname\u001B[0m\u001B[1;33m,\u001B[0m \u001B[0margs\u001B[0m\u001B[1;33m)\u001B[0m\u001B[1;33m\u001B[0m\u001B[1;33m\u001B[0m\u001B[0m\n\u001B[0m\u001B[0;32m    295\u001B[0m \u001B[1;33m\u001B[0m\u001B[0m\n\u001B[0;32m    296\u001B[0m     \u001B[1;32mdef\u001B[0m \u001B[0m__getstate__\u001B[0m\u001B[1;33m(\u001B[0m\u001B[0mself\u001B[0m\u001B[1;33m)\u001B[0m\u001B[1;33m:\u001B[0m\u001B[1;33m\u001B[0m\u001B[1;33m\u001B[0m\u001B[0m\n",
      "\u001B[1;32mD:\\Anaconda3\\envs\\mindspore\\lib\\site-packages\\mindspore\\common\\api.py\u001B[0m in \u001B[0;36mwrapper\u001B[1;34m(*arg, **kwargs)\u001B[0m\n\u001B[0;32m     88\u001B[0m     \u001B[1;33m@\u001B[0m\u001B[0mwraps\u001B[0m\u001B[1;33m(\u001B[0m\u001B[0mfn\u001B[0m\u001B[1;33m)\u001B[0m\u001B[1;33m\u001B[0m\u001B[1;33m\u001B[0m\u001B[0m\n\u001B[0;32m     89\u001B[0m     \u001B[1;32mdef\u001B[0m \u001B[0mwrapper\u001B[0m\u001B[1;33m(\u001B[0m\u001B[1;33m*\u001B[0m\u001B[0marg\u001B[0m\u001B[1;33m,\u001B[0m \u001B[1;33m**\u001B[0m\u001B[0mkwargs\u001B[0m\u001B[1;33m)\u001B[0m\u001B[1;33m:\u001B[0m\u001B[1;33m\u001B[0m\u001B[1;33m\u001B[0m\u001B[0m\n\u001B[1;32m---> 90\u001B[1;33m         \u001B[0mresults\u001B[0m \u001B[1;33m=\u001B[0m \u001B[0mfn\u001B[0m\u001B[1;33m(\u001B[0m\u001B[1;33m*\u001B[0m\u001B[0marg\u001B[0m\u001B[1;33m,\u001B[0m \u001B[1;33m**\u001B[0m\u001B[0mkwargs\u001B[0m\u001B[1;33m)\u001B[0m\u001B[1;33m\u001B[0m\u001B[1;33m\u001B[0m\u001B[0m\n\u001B[0m\u001B[0;32m     91\u001B[0m         \u001B[1;32mreturn\u001B[0m \u001B[0m_convert_data\u001B[0m\u001B[1;33m(\u001B[0m\u001B[0mresults\u001B[0m\u001B[1;33m)\u001B[0m\u001B[1;33m\u001B[0m\u001B[1;33m\u001B[0m\u001B[0m\n\u001B[0;32m     92\u001B[0m \u001B[1;33m\u001B[0m\u001B[0m\n",
      "\u001B[1;32mD:\\Anaconda3\\envs\\mindspore\\lib\\site-packages\\mindspore\\ops\\primitive.py\u001B[0m in \u001B[0;36m_run_op\u001B[1;34m(obj, op_name, args)\u001B[0m\n\u001B[0;32m    752\u001B[0m \u001B[1;32mdef\u001B[0m \u001B[0m_run_op\u001B[0m\u001B[1;33m(\u001B[0m\u001B[0mobj\u001B[0m\u001B[1;33m,\u001B[0m \u001B[0mop_name\u001B[0m\u001B[1;33m,\u001B[0m \u001B[0margs\u001B[0m\u001B[1;33m)\u001B[0m\u001B[1;33m:\u001B[0m\u001B[1;33m\u001B[0m\u001B[1;33m\u001B[0m\u001B[0m\n\u001B[0;32m    753\u001B[0m     \u001B[1;34m\"\"\"Single op execution function supported by ge in PyNative mode.\"\"\"\u001B[0m\u001B[1;33m\u001B[0m\u001B[1;33m\u001B[0m\u001B[0m\n\u001B[1;32m--> 754\u001B[1;33m     \u001B[0moutput\u001B[0m \u001B[1;33m=\u001B[0m \u001B[0mreal_run_op\u001B[0m\u001B[1;33m(\u001B[0m\u001B[0mobj\u001B[0m\u001B[1;33m,\u001B[0m \u001B[0mop_name\u001B[0m\u001B[1;33m,\u001B[0m \u001B[0margs\u001B[0m\u001B[1;33m)\u001B[0m\u001B[1;33m\u001B[0m\u001B[1;33m\u001B[0m\u001B[0m\n\u001B[0m\u001B[0;32m    755\u001B[0m     \u001B[1;32mreturn\u001B[0m \u001B[0moutput\u001B[0m\u001B[1;33m\u001B[0m\u001B[1;33m\u001B[0m\u001B[0m\n",
      "\u001B[1;32mD:\\Anaconda3\\envs\\mindspore\\lib\\site-packages\\mindspore\\ops\\primitive.py\u001B[0m in \u001B[0;36m__check__\u001B[1;34m(self, *args)\u001B[0m\n\u001B[0;32m    465\u001B[0m         \u001B[1;32mfor\u001B[0m \u001B[0mtrack\u001B[0m \u001B[1;32min\u001B[0m \u001B[0mtracks\u001B[0m\u001B[1;33m:\u001B[0m\u001B[1;33m\u001B[0m\u001B[1;33m\u001B[0m\u001B[0m\n\u001B[0;32m    466\u001B[0m             \u001B[0mfn\u001B[0m \u001B[1;33m=\u001B[0m \u001B[0mgetattr\u001B[0m\u001B[1;33m(\u001B[0m\u001B[0mself\u001B[0m\u001B[1;33m,\u001B[0m \u001B[1;34m'check_'\u001B[0m \u001B[1;33m+\u001B[0m \u001B[0mtrack\u001B[0m\u001B[1;33m)\u001B[0m\u001B[1;33m\u001B[0m\u001B[1;33m\u001B[0m\u001B[0m\n\u001B[1;32m--> 467\u001B[1;33m             \u001B[0mfn\u001B[0m\u001B[1;33m(\u001B[0m\u001B[1;33m*\u001B[0m\u001B[1;33m(\u001B[0m\u001B[0mx\u001B[0m\u001B[1;33m[\u001B[0m\u001B[0mtrack\u001B[0m\u001B[1;33m]\u001B[0m \u001B[1;32mfor\u001B[0m \u001B[0mx\u001B[0m \u001B[1;32min\u001B[0m \u001B[0margs\u001B[0m\u001B[1;33m)\u001B[0m\u001B[1;33m)\u001B[0m\u001B[1;33m\u001B[0m\u001B[1;33m\u001B[0m\u001B[0m\n\u001B[0m\u001B[0;32m    468\u001B[0m \u001B[1;33m\u001B[0m\u001B[0m\n\u001B[0;32m    469\u001B[0m \u001B[1;33m\u001B[0m\u001B[0m\n",
      "\u001B[1;32mD:\\Anaconda3\\envs\\mindspore\\lib\\site-packages\\mindspore\\ops\\operations\\math_ops.py\u001B[0m in \u001B[0;36mcheck_shape\u001B[1;34m(self, x1, x2)\u001B[0m\n\u001B[0;32m   1377\u001B[0m \u001B[1;33m\u001B[0m\u001B[0m\n\u001B[0;32m   1378\u001B[0m     \u001B[1;32mdef\u001B[0m \u001B[0mcheck_shape\u001B[0m\u001B[1;33m(\u001B[0m\u001B[0mself\u001B[0m\u001B[1;33m,\u001B[0m \u001B[0mx1\u001B[0m\u001B[1;33m,\u001B[0m \u001B[0mx2\u001B[0m\u001B[1;33m)\u001B[0m\u001B[1;33m:\u001B[0m\u001B[1;33m\u001B[0m\u001B[1;33m\u001B[0m\u001B[0m\n\u001B[1;32m-> 1379\u001B[1;33m         \u001B[0mself\u001B[0m\u001B[1;33m.\u001B[0m\u001B[0mcheck_shape_size\u001B[0m\u001B[1;33m(\u001B[0m\u001B[0mx1\u001B[0m\u001B[1;33m,\u001B[0m \u001B[0mx2\u001B[0m\u001B[1;33m)\u001B[0m\u001B[1;33m\u001B[0m\u001B[1;33m\u001B[0m\u001B[0m\n\u001B[0m\u001B[0;32m   1380\u001B[0m         \u001B[0mcls_name\u001B[0m \u001B[1;33m=\u001B[0m \u001B[0mself\u001B[0m\u001B[1;33m.\u001B[0m\u001B[0mname\u001B[0m\u001B[1;33m\u001B[0m\u001B[1;33m\u001B[0m\u001B[0m\n\u001B[0;32m   1381\u001B[0m \u001B[1;33m\u001B[0m\u001B[0m\n",
      "\u001B[1;32mD:\\Anaconda3\\envs\\mindspore\\lib\\site-packages\\mindspore\\ops\\operations\\math_ops.py\u001B[0m in \u001B[0;36mcheck_shape_size\u001B[1;34m(self, x, y)\u001B[0m\n\u001B[0;32m   1472\u001B[0m     \u001B[1;32mdef\u001B[0m \u001B[0mcheck_shape_size\u001B[0m\u001B[1;33m(\u001B[0m\u001B[0mself\u001B[0m\u001B[1;33m,\u001B[0m \u001B[0mx\u001B[0m\u001B[1;33m,\u001B[0m \u001B[0my\u001B[0m\u001B[1;33m)\u001B[0m\u001B[1;33m:\u001B[0m\u001B[1;33m\u001B[0m\u001B[1;33m\u001B[0m\u001B[0m\n\u001B[0;32m   1473\u001B[0m         \u001B[1;32mif\u001B[0m \u001B[0mlen\u001B[0m\u001B[1;33m(\u001B[0m\u001B[0mx\u001B[0m\u001B[1;33m)\u001B[0m \u001B[1;33m<\u001B[0m \u001B[1;36m3\u001B[0m \u001B[1;32mor\u001B[0m \u001B[0mlen\u001B[0m\u001B[1;33m(\u001B[0m\u001B[0my\u001B[0m\u001B[1;33m)\u001B[0m \u001B[1;33m<\u001B[0m \u001B[1;36m2\u001B[0m\u001B[1;33m:\u001B[0m\u001B[1;33m\u001B[0m\u001B[1;33m\u001B[0m\u001B[0m\n\u001B[1;32m-> 1474\u001B[1;33m             raise ValueError(f\"For '{self.name}', input 'x' should be greater than or equal to 3, input 'y' should \"\n\u001B[0m\u001B[0;32m   1475\u001B[0m                              f\"be greater than or equal to 2, but got 'x' size: {len(x)}, 'y' size: {len(y)}.\")\n\u001B[0;32m   1476\u001B[0m \u001B[1;33m\u001B[0m\u001B[0m\n",
      "\u001B[1;31mValueError\u001B[0m: For 'BatchMatMul', input 'x' should be greater than or equal to 3, input 'y' should be greater than or equal to 2, but got 'x' size: 3, 'y' size: 1."
     ]
    }
   ],
   "source": [
    "import numpy as np\n",
    "import mindspore\n",
    "x = Tensor(np.ones(shape=[10,4,8]), mindspore.float32)\n",
    "y = Tensor(np.ones(shape=[8]),mindspore.float32)\n",
    "batmatmul = P.BatchMatMul()\n",
    "output = batmatmul(x, y)"
   ],
   "metadata": {
    "collapsed": false,
    "pycharm": {
     "name": "#%%\n"
    }
   }
  },
  {
   "cell_type": "code",
   "execution_count": 13,
   "outputs": [],
   "source": [
    "a = Tensor(np.ones(shape=[40, 8]), mindspore.float32)\n",
    "b = Tensor(np.ones(shape=[1, 8]), mindspore.float32)\n",
    "matmul = P.MatMul(transpose_b=True)\n",
    "output = matmul(a, b)"
   ],
   "metadata": {
    "collapsed": false,
    "pycharm": {
     "name": "#%%\n"
    }
   }
  },
  {
   "cell_type": "code",
   "execution_count": 14,
   "outputs": [
    {
     "data": {
      "text/plain": "Tensor(shape=[40, 1], dtype=Float32, value=\n[[8.00000000e+000],\n [8.00000000e+000],\n [8.00000000e+000],\n ...\n [8.00000000e+000],\n [8.00000000e+000],\n [8.00000000e+000]])"
     },
     "execution_count": 14,
     "metadata": {},
     "output_type": "execute_result"
    }
   ],
   "source": [
    "output"
   ],
   "metadata": {
    "collapsed": false,
    "pycharm": {
     "name": "#%%\n"
    }
   }
  },
  {
   "cell_type": "code",
   "execution_count": null,
   "outputs": [],
   "source": [],
   "metadata": {
    "collapsed": false,
    "pycharm": {
     "name": "#%%\n"
    }
   }
  }
 ],
 "metadata": {
  "kernelspec": {
   "display_name": "Python 3",
   "language": "python",
   "name": "python3"
  },
  "language_info": {
   "codemirror_mode": {
    "name": "ipython",
    "version": 2
   },
   "file_extension": ".py",
   "mimetype": "text/x-python",
   "name": "python",
   "nbconvert_exporter": "python",
   "pygments_lexer": "ipython2",
   "version": "2.7.6"
  }
 },
 "nbformat": 4,
 "nbformat_minor": 0
}