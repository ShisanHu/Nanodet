{
 "cells": [
  {
   "cell_type": "code",
   "execution_count": 2,
   "metadata": {
    "collapsed": true,
    "pycharm": {
     "name": "#%%\n"
    }
   },
   "outputs": [
    {
     "name": "stdout",
     "output_type": "stream",
     "text": [
      "{'enable_modelarts': 'Whether training on modelarts default: False', 'data_url': 'Url for modelarts', 'train_url': 'Url for modelarts', 'data_path': 'The location of input data', 'output_pah': 'The location of the output file', 'device_target': 'device id of GPU or Ascend. (Default: None)', 'enable_profiling': 'Whether enable profiling while training default: False', 'workers': 'Num parallel workers.', 'lr': 'Learning rate, default is 0.1.', 'mode': 'Run sink mode or not, default is sink.', 'epoch_size': 'Epoch size, default is 500.', 'batch_size': 'Batch size, default is 32.', 'pre_trained': 'Pretrained Checkpoint file path.', 'pre_trained_epoch_size': 'Pretrained epoch size.', 'save_checkpoint_epochs': 'Save checkpoint epochs, default is 1.', 'loss_scale': 'Loss scale, default is 1024.', 'filter_weight': 'Filter weight parameters, default is False.', 'dataset': 'Dataset, default is coco.', 'device_id': 'Device id, default is 0.', 'file_format': 'file format choices [AIR, MINDIR]', 'file_name': 'output file name.', 'export_batch_size': 'batch size', 'result_path': 'result file path.', 'img_path': 'image file path.', 'img_id_file': 'image id file.'}\n"
     ]
    },
    {
     "name": "stderr",
     "output_type": "stream",
     "text": [
      "usage: ipykernel_launcher.py [-h] [--config_path CONFIG_PATH]\n",
      "                             [--enable_modelarts ENABLE_MODELARTS]\n",
      "                             [--data_url DATA_URL] [--train_url TRAIN_URL]\n",
      "                             [--checkpoint_url CHECKPOINT_URL]\n",
      "                             [--data_path DATA_PATH]\n",
      "                             [--output_path OUTPUT_PATH]\n",
      "                             [--load_path LOAD_PATH]\n",
      "                             [--device_target DEVICE_TARGET]\n",
      "                             [--enable_profiling ENABLE_PROFILING]\n",
      "                             [--need_modelarts_dataset_unzip NEED_MODELARTS_DATASET_UNZIP]\n",
      "                             [--modelarts_dataset_unzip_name MODELARTS_DATASET_UNZIP_NAME]\n",
      "                             [--distribute DISTRIBUTE]\n",
      "                             [--create_dataset CREATE_DATASET]\n",
      "                             [--prefix PREFIX] [--is_training IS_TRAINING]\n",
      "                             [--num_nanodet_boxes NUM_NANODET_BOXES]\n",
      "                             [--match_thershold MATCH_THERSHOLD]\n",
      "                             [--nms_thershold NMS_THERSHOLD]\n",
      "                             [--min_score MIN_SCORE] [--max_boxes MAX_BOXES]\n",
      "                             [--lr LR] [--momentum MOMENTUM]\n",
      "                             [--weight_decay WEIGHT_DECAY]\n",
      "                             [--lr_gamma LR_GAMMA]\n",
      "                             [--warmup_epochs WARMUP_EPOCHS]\n",
      "                             [--epoch_size EPOCH_SIZE]\n",
      "                             [--batch_size BATCH_SIZE]\n",
      "                             [--aspect_ratio ASPECT_RATIO] [--gamma GAMMA]\n",
      "                             [--alpha ALPHA] [--num_classes NUM_CLASSES]\n",
      "                             [--reg_max REG_MAX] [--topk TOPK]\n",
      "                             [--mindrecord_dir MINDRECORD_DIR]\n",
      "                             [--coco_root COCO_ROOT]\n",
      "                             [--train_data_type TRAIN_DATA_TYPE]\n",
      "                             [--val_data_type VAL_DATA_TYPE]\n",
      "                             [--instances_set INSTANCES_SET]\n",
      "                             [--voc_root VOC_ROOT] [--voc_dir VOC_DIR]\n",
      "                             [--image_dir IMAGE_DIR] [--anno_path ANNO_PATH]\n",
      "                             [--save_checkpoint SAVE_CHECKPOINT]\n",
      "                             [--save_checkpoint_epochs SAVE_CHECKPOINT_EPOCHS]\n",
      "                             [--keep_checkpoint_max KEEP_CHECKPOINT_MAX]\n",
      "                             [--save_checkpoint_path SAVE_CHECKPOINT_PATH]\n",
      "                             [--finish_epoch FINISH_EPOCH] [--workers WORKERS]\n",
      "                             [--mode MODE] [--pre_trained PRE_TRAINED]\n",
      "                             [--pre_trained_epoch_size PRE_TRAINED_EPOCH_SIZE]\n",
      "                             [--loss_scale LOSS_SCALE]\n",
      "                             [--filter_weight FILTER_WEIGHT]\n",
      "                             [--dataset DATASET]\n",
      "                             [--checkpoint_path CHECKPOINT_PATH]\n",
      "                             [--device_id DEVICE_ID]\n",
      "                             [--file_format FILE_FORMAT]\n",
      "                             [--export_batch_size EXPORT_BATCH_SIZE]\n",
      "                             [--file_name FILE_NAME] [--onnx_path ONNX_PATH]\n",
      "                             [--result_path RESULT_PATH] [--img_path IMG_PATH]\n",
      "                             [--img_id_file IMG_ID_FILE]\n",
      "ipykernel_launcher.py: error: unrecognized arguments: -f C:\\Users\\Atom\\AppData\\Roaming\\jupyter\\runtime\\kernel-f7047b69-fa8c-4330-9c42-49eab6f70948.json\n"
     ]
    },
    {
     "ename": "SystemExit",
     "evalue": "2",
     "output_type": "error",
     "traceback": [
      "An exception has occurred, use %tb to see the full traceback.\n",
      "\u001B[1;31mSystemExit\u001B[0m\u001B[1;31m:\u001B[0m 2\n"
     ]
    },
    {
     "name": "stderr",
     "output_type": "stream",
     "text": [
      "D:\\Anaconda3\\envs\\mindspore\\lib\\site-packages\\IPython\\core\\interactiveshell.py:3465: UserWarning: To exit: use 'exit', 'quit', or Ctrl-D.\n",
      "  warn(\"To exit: use 'exit', 'quit', or Ctrl-D.\", stacklevel=1)\n"
     ]
    }
   ],
   "source": [
    "from nanodetII import NanoDetWithLossCell"
   ]
  },
  {
   "cell_type": "code",
   "execution_count": null,
   "outputs": [],
   "source": [],
   "metadata": {
    "collapsed": false,
    "pycharm": {
     "name": "#%%\n"
    }
   }
  }
 ],
 "metadata": {
  "kernelspec": {
   "display_name": "Python 3",
   "language": "python",
   "name": "python3"
  },
  "language_info": {
   "codemirror_mode": {
    "name": "ipython",
    "version": 2
   },
   "file_extension": ".py",
   "mimetype": "text/x-python",
   "name": "python",
   "nbconvert_exporter": "python",
   "pygments_lexer": "ipython2",
   "version": "2.7.6"
  }
 },
 "nbformat": 4,
 "nbformat_minor": 0
}