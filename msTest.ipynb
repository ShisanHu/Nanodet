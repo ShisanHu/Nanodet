{
 "cells": [
  {
   "cell_type": "code",
   "execution_count": 3,
   "metadata": {
    "collapsed": true,
    "pycharm": {
     "name": "#%%\n"
    }
   },
   "outputs": [],
   "source": [
    "import mindspore as ms\n",
    "import numpy as np"
   ]
  },
  {
   "cell_type": "code",
   "execution_count": 9,
   "outputs": [],
   "source": [
    "points = ms.Tensor(np.random.rand(9,4),ms.float64)"
   ],
   "metadata": {
    "collapsed": false,
    "pycharm": {
     "name": "#%%\n"
    }
   }
  },
  {
   "cell_type": "code",
   "execution_count": 12,
   "outputs": [
    {
     "name": "stdout",
     "output_type": "stream",
     "text": [
      "[0.5920889  0.44426756 0.33231965 0.45367665 0.13016786 0.27614495\n",
      " 0.94041053 0.36154926 0.81101449]\n"
     ]
    }
   ],
   "source": [
    "print(points[...,0])"
   ],
   "metadata": {
    "collapsed": false,
    "pycharm": {
     "name": "#%%\n"
    }
   }
  },
  {
   "cell_type": "code",
   "execution_count": 14,
   "outputs": [
    {
     "data": {
      "text/plain": "Tensor(shape=[2, 4], dtype=Float64, value=\n[[5.92088902e-001, 7.98575706e-001, 7.92801691e-001, 4.01275562e-001],\n [4.53676647e-001, 5.37535793e-002, 8.83032206e-001, 4.71393508e-001]])"
     },
     "execution_count": 14,
     "metadata": {},
     "output_type": "execute_result"
    }
   ],
   "source": [
    "idx = ms.Tensor([0,3],ms.int32)\n",
    "points[idx]"
   ],
   "metadata": {
    "collapsed": false,
    "pycharm": {
     "name": "#%%\n"
    }
   }
  },
  {
   "cell_type": "code",
   "execution_count": 16,
   "outputs": [],
   "source": [
    "ss = ()"
   ],
   "metadata": {
    "collapsed": false,
    "pycharm": {
     "name": "#%%\n"
    }
   }
  },
  {
   "cell_type": "code",
   "execution_count": 33,
   "outputs": [],
   "source": [
    "import mindspore.nn as nn\n",
    "import mindspore.ops.operations as P\n",
    "class ChannelShuffle(nn.Cell):\n",
    "    def __init__(self):\n",
    "        super(ChannelShuffle, self).__init__()\n",
    "        self.reshape = P.Reshape()\n",
    "        self.transpose = P.Transpose()\n",
    "        self.shape = P.Shape()\n",
    "    def construct(self, x):\n",
    "        batchsize, num_channels, height, width = self.shape(x)\n",
    "        x = self.reshape(x, (batchsize * num_channels // 2, 2, height * width,))\n",
    "        x = self.transpose(x, (1, 0, 2,))\n",
    "        x = self.reshape(x, (2, -1, num_channels // 2, height, width,))\n",
    "        return x[0:1, :, :, :, :], x[-1:, :, :, :, :]"
   ],
   "metadata": {
    "collapsed": false,
    "pycharm": {
     "name": "#%%\n"
    }
   }
  },
  {
   "cell_type": "code",
   "execution_count": 34,
   "outputs": [],
   "source": [
    "x = ms.Tensor(np.random.rand(10,24,320,320),ms.float32)"
   ],
   "metadata": {
    "collapsed": false,
    "pycharm": {
     "name": "#%%\n"
    }
   }
  },
  {
   "cell_type": "code",
   "execution_count": 35,
   "outputs": [],
   "source": [
    "shuffle = ChannelShuffle()"
   ],
   "metadata": {
    "collapsed": false,
    "pycharm": {
     "name": "#%%\n"
    }
   }
  },
  {
   "cell_type": "code",
   "execution_count": 36,
   "outputs": [],
   "source": [
    "x1, x2 = shuffle(x)"
   ],
   "metadata": {
    "collapsed": false,
    "pycharm": {
     "name": "#%%\n"
    }
   }
  },
  {
   "cell_type": "code",
   "execution_count": 37,
   "outputs": [
    {
     "data": {
      "text/plain": "(1, 10, 12, 320, 320)"
     },
     "execution_count": 37,
     "metadata": {},
     "output_type": "execute_result"
    }
   ],
   "source": [
    "x1.shape"
   ],
   "metadata": {
    "collapsed": false,
    "pycharm": {
     "name": "#%%\n"
    }
   }
  },
  {
   "cell_type": "code",
   "execution_count": null,
   "outputs": [],
   "source": [],
   "metadata": {
    "collapsed": false,
    "pycharm": {
     "name": "#%%\n"
    }
   }
  }
 ],
 "metadata": {
  "kernelspec": {
   "display_name": "Python 3",
   "language": "python",
   "name": "python3"
  },
  "language_info": {
   "codemirror_mode": {
    "name": "ipython",
    "version": 2
   },
   "file_extension": ".py",
   "mimetype": "text/x-python",
   "name": "python",
   "nbconvert_exporter": "python",
   "pygments_lexer": "ipython2",
   "version": "2.7.6"
  }
 },
 "nbformat": 4,
 "nbformat_minor": 0
}