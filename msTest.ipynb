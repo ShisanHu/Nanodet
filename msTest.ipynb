{
 "cells": [
  {
   "cell_type": "code",
   "execution_count": 3,
   "metadata": {
    "collapsed": true,
    "pycharm": {
     "name": "#%%\n"
    }
   },
   "outputs": [],
   "source": [
    "import mindspore as ms\n",
    "import numpy as np"
   ]
  },
  {
   "cell_type": "code",
   "execution_count": 4,
   "outputs": [],
   "source": [
    "points = ms.Tensor(np.random.rand(9,4),ms.float64)"
   ],
   "metadata": {
    "collapsed": false,
    "pycharm": {
     "name": "#%%\n"
    }
   }
  },
  {
   "cell_type": "code",
   "execution_count": 12,
   "outputs": [
    {
     "name": "stdout",
     "output_type": "stream",
     "text": [
      "[0.5920889  0.44426756 0.33231965 0.45367665 0.13016786 0.27614495\n",
      " 0.94041053 0.36154926 0.81101449]\n"
     ]
    }
   ],
   "source": [
    "print(points[...,0])"
   ],
   "metadata": {
    "collapsed": false,
    "pycharm": {
     "name": "#%%\n"
    }
   }
  },
  {
   "cell_type": "code",
   "execution_count": 14,
   "outputs": [
    {
     "data": {
      "text/plain": "Tensor(shape=[2, 4], dtype=Float64, value=\n[[5.92088902e-001, 7.98575706e-001, 7.92801691e-001, 4.01275562e-001],\n [4.53676647e-001, 5.37535793e-002, 8.83032206e-001, 4.71393508e-001]])"
     },
     "execution_count": 14,
     "metadata": {},
     "output_type": "execute_result"
    }
   ],
   "source": [
    "idx = ms.Tensor([0,3],ms.int32)\n",
    "points[idx]"
   ],
   "metadata": {
    "collapsed": false,
    "pycharm": {
     "name": "#%%\n"
    }
   }
  },
  {
   "cell_type": "code",
   "execution_count": 16,
   "outputs": [],
   "source": [
    "ss = ()"
   ],
   "metadata": {
    "collapsed": false,
    "pycharm": {
     "name": "#%%\n"
    }
   }
  },
  {
   "cell_type": "code",
   "execution_count": 2,
   "outputs": [],
   "source": [
    "import mindspore.nn as nn\n",
    "import mindspore.ops.operations as P\n",
    "class ChannelShuffle(nn.Cell):\n",
    "    def __init__(self):\n",
    "        super(ChannelShuffle, self).__init__()\n",
    "        self.reshape = P.Reshape()\n",
    "        self.transpose = P.Transpose()\n",
    "        self.shape = P.Shape()\n",
    "    def construct(self, x):\n",
    "        batchsize, num_channels, height, width = self.shape(x)\n",
    "        x = self.reshape(x, (batchsize * num_channels // 2, 2, height * width,))\n",
    "        x = self.transpose(x, (1, 0, 2,))\n",
    "        x = self.reshape(x, (2, -1, num_channels // 2, height, width,))\n",
    "        return x[0:1, :, :, :, :], x[-1:, :, :, :, :]"
   ],
   "metadata": {
    "collapsed": false,
    "pycharm": {
     "name": "#%%\n"
    }
   }
  },
  {
   "cell_type": "code",
   "execution_count": 34,
   "outputs": [],
   "source": [
    "x = ms.Tensor(np.random.rand(10,24,320,320),ms.float32)"
   ],
   "metadata": {
    "collapsed": false,
    "pycharm": {
     "name": "#%%\n"
    }
   }
  },
  {
   "cell_type": "code",
   "execution_count": 35,
   "outputs": [],
   "source": [
    "shuffle = ChannelShuffle()"
   ],
   "metadata": {
    "collapsed": false,
    "pycharm": {
     "name": "#%%\n"
    }
   }
  },
  {
   "cell_type": "code",
   "execution_count": 36,
   "outputs": [],
   "source": [
    "x1, x2 = shuffle(x)"
   ],
   "metadata": {
    "collapsed": false,
    "pycharm": {
     "name": "#%%\n"
    }
   }
  },
  {
   "cell_type": "code",
   "execution_count": 37,
   "outputs": [
    {
     "data": {
      "text/plain": "(1, 10, 12, 320, 320)"
     },
     "execution_count": 37,
     "metadata": {},
     "output_type": "execute_result"
    }
   ],
   "source": [
    "x1.shape"
   ],
   "metadata": {
    "collapsed": false,
    "pycharm": {
     "name": "#%%\n"
    }
   }
  },
  {
   "cell_type": "code",
   "execution_count": 1,
   "outputs": [],
   "source": [
    "import math\n",
    "import itertools as it\n",
    "import numpy as np"
   ],
   "metadata": {
    "collapsed": false,
    "pycharm": {
     "name": "#%%\n"
    }
   }
  },
  {
   "cell_type": "code",
   "execution_count": 2,
   "outputs": [],
   "source": [
    "class GeneratDefaultGridCellsII:\n",
    "    def __init__(self):\n",
    "        img_shape = [320, 320]\n",
    "        strides = [8, 16, 32]\n",
    "        feature_size = [40, 20, 10]\n",
    "        anchor_size = np.array([8, 16, 32])\n",
    "        aspect_ratio = 1.0\n",
    "\n",
    "        fk = img_shape[0] / np.array(strides)\n",
    "        scales = np.array([1.0])\n",
    "        strides = np.array(strides)\n",
    "        anchor_size = np.array(anchor_size)\n",
    "        self.default_multi_level_grid_cells = []\n",
    "        # config.feature_size = [40, 20, 10]\n",
    "        for idex, feature_size in enumerate(feature_size):\n",
    "            base_size = anchor_size[idex] / img_shape[0]\n",
    "            size = base_size * scales[0]\n",
    "            all_sizes = []\n",
    "            w, h = size * math.sqrt(aspect_ratio), size / math.sqrt(aspect_ratio)\n",
    "            all_sizes.append((h, w))\n",
    "            for i, j in it.product(range(feature_size), repeat=2):\n",
    "                for h, w in all_sizes:\n",
    "                    cx, cy = (j + 0.5) / fk[idex], (i + 0.5) / fk[idex]\n",
    "                    self.default_multi_level_grid_cells.append([cx,cy,h,w])\n",
    "        def to_ltrb(cy, cx, h, w):\n",
    "            return cy - h / 2, cx - w / 2, cy + h / 2, cx + w / 2\n",
    "\n",
    "        self.default_multi_level_grid_cells_ltrb = np.array(tuple(to_ltrb(*i) for i in self.default_multi_level_grid_cells), dtype='float32')\n",
    "        self.default_multi_level_grid_cells = np.array(self.default_multi_level_grid_cells, dtype='float32')\n"
   ],
   "metadata": {
    "collapsed": false,
    "pycharm": {
     "name": "#%%\n"
    }
   }
  },
  {
   "cell_type": "code",
   "execution_count": 73,
   "outputs": [
    {
     "data": {
      "text/plain": "array([[0.0125  , 0.0125  , 0.003125, 0.003125],\n       [0.0375  , 0.0125  , 0.003125, 0.003125],\n       [0.0625  , 0.0125  , 0.003125, 0.003125],\n       ...,\n       [0.75    , 0.95    , 0.003125, 0.003125],\n       [0.85    , 0.95    , 0.003125, 0.003125],\n       [0.95    , 0.95    , 0.003125, 0.003125]], dtype=float32)"
     },
     "execution_count": 73,
     "metadata": {},
     "output_type": "execute_result"
    }
   ],
   "source": [
    "GeneratDefaultGridCellsII().default_multi_level_grid_cells"
   ],
   "metadata": {
    "collapsed": false,
    "pycharm": {
     "name": "#%%\n"
    }
   }
  },
  {
   "cell_type": "code",
   "execution_count": 75,
   "outputs": [
    {
     "data": {
      "text/plain": "array([[0.0109375, 0.0109375, 0.0140625, 0.0140625],\n       [0.0359375, 0.0109375, 0.0390625, 0.0140625],\n       [0.0609375, 0.0109375, 0.0640625, 0.0140625],\n       ...,\n       [0.7484375, 0.9484375, 0.7515625, 0.9515625],\n       [0.8484375, 0.9484375, 0.8515625, 0.9515625],\n       [0.9484375, 0.9484375, 0.9515625, 0.9515625]], dtype=float32)"
     },
     "execution_count": 75,
     "metadata": {},
     "output_type": "execute_result"
    }
   ],
   "source": [
    "GeneratDefaultGridCellsII().default_multi_level_grid_cells_ltrb"
   ],
   "metadata": {
    "collapsed": false,
    "pycharm": {
     "name": "#%%\n"
    }
   }
  },
  {
   "cell_type": "code",
   "execution_count": 27,
   "outputs": [
    {
     "ename": "ValueError",
     "evalue": "array split does not result in an equal division",
     "output_type": "error",
     "traceback": [
      "\u001B[1;31m---------------------------------------------------------------------------\u001B[0m",
      "\u001B[1;31mValueError\u001B[0m                                Traceback (most recent call last)",
      "\u001B[1;32m~\\AppData\\Local\\Temp\\ipykernel_4780\\3735884465.py\u001B[0m in \u001B[0;36m<module>\u001B[1;34m\u001B[0m\n\u001B[1;32m----> 1\u001B[1;33m \u001B[0my1\u001B[0m\u001B[1;33m,\u001B[0m \u001B[0mx1\u001B[0m\u001B[1;33m,\u001B[0m \u001B[0my2\u001B[0m\u001B[1;33m,\u001B[0m \u001B[0mx2\u001B[0m \u001B[1;33m=\u001B[0m \u001B[0mnp\u001B[0m\u001B[1;33m.\u001B[0m\u001B[0msplit\u001B[0m\u001B[1;33m(\u001B[0m\u001B[0mdefault_boxes_ltrb\u001B[0m\u001B[1;33m[\u001B[0m\u001B[1;33m:\u001B[0m\u001B[1;33m,\u001B[0m \u001B[1;33m:\u001B[0m\u001B[1;36m4\u001B[0m\u001B[1;33m]\u001B[0m\u001B[1;33m,\u001B[0m \u001B[1;36m4\u001B[0m\u001B[1;33m,\u001B[0m \u001B[0maxis\u001B[0m\u001B[1;33m=\u001B[0m\u001B[1;33m-\u001B[0m\u001B[1;36m1\u001B[0m\u001B[1;33m)\u001B[0m\u001B[1;33m\u001B[0m\u001B[1;33m\u001B[0m\u001B[0m\n\u001B[0m",
      "\u001B[1;32m<__array_function__ internals>\u001B[0m in \u001B[0;36msplit\u001B[1;34m(*args, **kwargs)\u001B[0m\n",
      "\u001B[1;32mD:\\Anaconda3\\envs\\mindspore\\lib\\site-packages\\numpy\\lib\\shape_base.py\u001B[0m in \u001B[0;36msplit\u001B[1;34m(ary, indices_or_sections, axis)\u001B[0m\n\u001B[0;32m    871\u001B[0m         \u001B[1;32mif\u001B[0m \u001B[0mN\u001B[0m \u001B[1;33m%\u001B[0m \u001B[0msections\u001B[0m\u001B[1;33m:\u001B[0m\u001B[1;33m\u001B[0m\u001B[1;33m\u001B[0m\u001B[0m\n\u001B[0;32m    872\u001B[0m             raise ValueError(\n\u001B[1;32m--> 873\u001B[1;33m                 'array split does not result in an equal division') from None\n\u001B[0m\u001B[0;32m    874\u001B[0m     \u001B[1;32mreturn\u001B[0m \u001B[0marray_split\u001B[0m\u001B[1;33m(\u001B[0m\u001B[0mary\u001B[0m\u001B[1;33m,\u001B[0m \u001B[0mindices_or_sections\u001B[0m\u001B[1;33m,\u001B[0m \u001B[0maxis\u001B[0m\u001B[1;33m)\u001B[0m\u001B[1;33m\u001B[0m\u001B[1;33m\u001B[0m\u001B[0m\n\u001B[0;32m    875\u001B[0m \u001B[1;33m\u001B[0m\u001B[0m\n",
      "\u001B[1;31mValueError\u001B[0m: array split does not result in an equal division"
     ]
    }
   ],
   "source": [
    "y1, x1, y2, x2 = np.split(default_boxes_ltrb[:, :4], 4, axis=-1)"
   ],
   "metadata": {
    "collapsed": false,
    "pycharm": {
     "name": "#%%\n"
    }
   }
  },
  {
   "cell_type": "code",
   "execution_count": 46,
   "outputs": [],
   "source": [
    "class GeneratDefaultBoxes():\n",
    "    \"\"\"\n",
    "    Generate Default boxes for retinanet, follows the order of (W, H, archor_sizes).\n",
    "    `self.default_boxes` has a shape of [archor_sizes, H, W, 4], the last dimension is [y, x, h, w].\n",
    "    `self.default_boxes_ltrb` has a shape as `self.default_boxes`, the last dimension is [y1, x1, y2, x2].\n",
    "    \"\"\"\n",
    "    def __init__(self):\n",
    "        img_shape = [600, 600]\n",
    "        steps = [8, 16, 32, 64, 128]\n",
    "        anchor_size = [32, 64, 128, 256, 512]\n",
    "        feature_size = [75, 38, 19, 10, 5]\n",
    "        aspect_ratios =  [[0.5, 1.0, 2.0], [0.5, 1.0, 2.0], [0.5, 1.0, 2.0], [0.5, 1.0, 2.0], [0.5, 1.0, 2.0]]\n",
    "\n",
    "        fk = img_shape[0] / np.array(steps)\n",
    "        scales = np.array([2 ** 0, 2 ** (1.0 / 3.0), 2 ** (2.0 / 3.0)])\n",
    "        anchor_size = np.array(anchor_size)\n",
    "        self.default_boxes = []\n",
    "        for idex, feature_size in enumerate(feature_size):\n",
    "            base_size = anchor_size[idex] / img_shape[0]\n",
    "            size1 = base_size*scales[0]\n",
    "            size2 = base_size*scales[1]\n",
    "            size3 = base_size*scales[2]\n",
    "            all_sizes = []\n",
    "            for aspect_ratio in aspect_ratios[idex]:\n",
    "                w1, h1 = size1 * math.sqrt(aspect_ratio), size1 / math.sqrt(aspect_ratio)\n",
    "                all_sizes.append((h1, w1))\n",
    "                w2, h2 = size2 * math.sqrt(aspect_ratio), size2 / math.sqrt(aspect_ratio)\n",
    "                all_sizes.append((h2, w2))\n",
    "                w3, h3 = size3 * math.sqrt(aspect_ratio), size3 / math.sqrt(aspect_ratio)\n",
    "                all_sizes.append((h3, w3))\n",
    "\n",
    "            # assert len(all_sizes) == config.num_default[idex]\n",
    "\n",
    "            # 第一个归一化操作, 按照feature_size 除以\n",
    "            # 为5个尺度的特征图，每个点上，铺上9个Anchor，铺满全图\n",
    "            for i, j in it.product(range(feature_size), repeat=2):\n",
    "                for h, w in all_sizes:\n",
    "                    cx, cy = (j + 0.5) / fk[idex], (i + 0.5) / fk[idex]\n",
    "                    self.default_boxes.append([cy, cx, h, w])\n",
    "\n",
    "        # 偏移变换到左上角和右下角\n",
    "        def to_ltrb(cy, cx, h, w):\n",
    "            return cy - h / 2, cx - w / 2, cy + h / 2, cx + w / 2\n",
    "\n",
    "        # For IoU calculation\n",
    "        self.default_boxes_ltrb = np.array(tuple(to_ltrb(*i) for i in self.default_boxes), dtype='float32')\n",
    "        self.default_boxes = np.array(self.default_boxes, dtype='float32')\n"
   ],
   "metadata": {
    "collapsed": false,
    "pycharm": {
     "name": "#%%\n"
    }
   }
  },
  {
   "cell_type": "code",
   "execution_count": 48,
   "outputs": [
    {
     "data": {
      "text/plain": "(67995, 4)"
     },
     "execution_count": 48,
     "metadata": {},
     "output_type": "execute_result"
    }
   ],
   "source": [
    "GeneratDefaultBoxes().default_boxes.shape"
   ],
   "metadata": {
    "collapsed": false,
    "pycharm": {
     "name": "#%%\n"
    }
   }
  },
  {
   "cell_type": "code",
   "execution_count": 50,
   "outputs": [
    {
     "data": {
      "text/plain": "(67995, 4)"
     },
     "execution_count": 50,
     "metadata": {},
     "output_type": "execute_result"
    }
   ],
   "source": [
    "GeneratDefaultBoxes().default_boxes_ltrb.shape"
   ],
   "metadata": {
    "collapsed": false,
    "pycharm": {
     "name": "#%%\n"
    }
   }
  },
  {
   "cell_type": "code",
   "execution_count": 6,
   "outputs": [],
   "source": [
    "import mindspore as ms\n",
    "idx = ms.Tensor([[1,2,7,4],[1,2,3,4]])"
   ],
   "metadata": {
    "collapsed": false,
    "pycharm": {
     "name": "#%%\n"
    }
   }
  },
  {
   "cell_type": "code",
   "execution_count": 7,
   "outputs": [
    {
     "data": {
      "text/plain": "(2, 4)"
     },
     "execution_count": 7,
     "metadata": {},
     "output_type": "execute_result"
    }
   ],
   "source": [
    "idx.shape"
   ],
   "metadata": {
    "collapsed": false,
    "pycharm": {
     "name": "#%%\n"
    }
   }
  },
  {
   "cell_type": "code",
   "execution_count": 82,
   "outputs": [
    {
     "data": {
      "text/plain": "Tensor(shape=[8], dtype=Int32, value= [1, 2, 7, 4, 1, 2, 3, 4])"
     },
     "execution_count": 82,
     "metadata": {},
     "output_type": "execute_result"
    }
   ],
   "source": [
    "idx.view(-1)"
   ],
   "metadata": {
    "collapsed": false,
    "pycharm": {
     "name": "#%%\n"
    }
   }
  },
  {
   "cell_type": "code",
   "execution_count": 14,
   "outputs": [
    {
     "data": {
      "text/plain": "Tensor(shape=[2, 4], dtype=Bool, value=\n[[False,  True,  True,  True],\n [False,  True,  True,  True]])"
     },
     "execution_count": 14,
     "metadata": {},
     "output_type": "execute_result"
    }
   ],
   "source": [
    "idx>1"
   ],
   "metadata": {
    "collapsed": false,
    "pycharm": {
     "name": "#%%\n"
    }
   }
  },
  {
   "cell_type": "code",
   "execution_count": 15,
   "outputs": [],
   "source": [
    "import mindspore.ops.operations as P"
   ],
   "metadata": {
    "collapsed": false,
    "pycharm": {
     "name": "#%%\n"
    }
   }
  },
  {
   "cell_type": "code",
   "execution_count": 16,
   "outputs": [
    {
     "data": {
      "text/plain": "Tensor(shape=[1, 2, 4], dtype=Int32, value=\n[[[1, 2, 7, 4],\n  [1, 2, 3, 4]]])"
     },
     "execution_count": 16,
     "metadata": {},
     "output_type": "execute_result"
    }
   ],
   "source": [
    "P.ExpandDims()(idx, 0)"
   ],
   "metadata": {
    "collapsed": false,
    "pycharm": {
     "name": "#%%\n"
    }
   }
  },
  {
   "cell_type": "code",
   "execution_count": null,
   "outputs": [],
   "source": [],
   "metadata": {
    "collapsed": false,
    "pycharm": {
     "name": "#%%\n"
    }
   }
  }
 ],
 "metadata": {
  "kernelspec": {
   "display_name": "Python 3",
   "language": "python",
   "name": "python3"
  },
  "language_info": {
   "codemirror_mode": {
    "name": "ipython",
    "version": 2
   },
   "file_extension": ".py",
   "mimetype": "text/x-python",
   "name": "python",
   "nbconvert_exporter": "python",
   "pygments_lexer": "ipython2",
   "version": "2.7.6"
  }
 },
 "nbformat": 4,
 "nbformat_minor": 0
}